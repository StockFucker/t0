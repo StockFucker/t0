{
 "cells": [
  {
   "cell_type": "code",
   "execution_count": 1,
   "metadata": {
    "collapsed": true
   },
   "outputs": [],
   "source": [
    "import pandas as pd\n",
    "import numpy as np"
   ]
  },
  {
   "cell_type": "code",
   "execution_count": 8,
   "metadata": {
    "collapsed": false
   },
   "outputs": [],
   "source": [
    "df = pd.read_csv(\"t00.csv\",index_col=0,parse_dates=True)"
   ]
  },
  {
   "cell_type": "code",
   "execution_count": 15,
   "metadata": {
    "collapsed": false
   },
   "outputs": [],
   "source": [
    "df[\"volume_ratio\"] = df[\"volume\"]/df[\"volume_mean\"]\n",
    "df[\"volume_ratio3\"] = df[\"volume\"].rolling(3).mean()/df[\"volume_mean\"].rolling(3).mean()\n",
    "df[\"volume_ratio5\"] = df[\"volume\"].rolling(5).mean()/df[\"volume_mean\"].rolling(5).mean()\n",
    "df[\"minchange\"] = df[\"price\"].pct_change()\n",
    "df[\"minchange3\"] = df[\"price\"].pct_change(3)\n",
    "df[\"minchange5\"] = df[\"price\"].pct_change(5)\n",
    "df[\"momentum\"] = df[\"minchange\"] * df[\"volume_ratio\"]\n",
    "df[\"momentum3\"] = df[\"minchange3\"] * df[\"volume_ratio3\"]\n",
    "df[\"momentum5\"] = df[\"minchange5\"] * df[\"volume_ratio5\"]"
   ]
  },
  {
   "cell_type": "code",
   "execution_count": 16,
   "metadata": {
    "collapsed": false
   },
   "outputs": [
    {
     "data": {
      "text/html": [
       "<div>\n",
       "<table border=\"1\" class=\"dataframe\">\n",
       "  <thead>\n",
       "    <tr style=\"text-align: right;\">\n",
       "      <th></th>\n",
       "      <th>change</th>\n",
       "      <th>price</th>\n",
       "      <th>volume</th>\n",
       "      <th>volume_mean</th>\n",
       "      <th>volume_ratio</th>\n",
       "      <th>volume_ratio3</th>\n",
       "      <th>volume_ratio5</th>\n",
       "      <th>minchange</th>\n",
       "      <th>minchange3</th>\n",
       "      <th>minchange4</th>\n",
       "      <th>minchange5</th>\n",
       "      <th>momentum</th>\n",
       "      <th>momentum3</th>\n",
       "      <th>momentum5</th>\n",
       "    </tr>\n",
       "  </thead>\n",
       "  <tbody>\n",
       "    <tr>\n",
       "      <th>2016-12-30 14:57:00</th>\n",
       "      <td>1.000528</td>\n",
       "      <td>6473.794</td>\n",
       "      <td>569100.0</td>\n",
       "      <td>464070.0</td>\n",
       "      <td>1.226324</td>\n",
       "      <td>1.196813</td>\n",
       "      <td>1.219388</td>\n",
       "      <td>0.000005</td>\n",
       "      <td>0.000280</td>\n",
       "      <td>-0.000037</td>\n",
       "      <td>-0.000037</td>\n",
       "      <td>0.000006</td>\n",
       "      <td>0.000335</td>\n",
       "      <td>-0.000045</td>\n",
       "    </tr>\n",
       "    <tr>\n",
       "      <th>2016-12-30 14:58:00</th>\n",
       "      <td>1.000528</td>\n",
       "      <td>6473.794</td>\n",
       "      <td>0.0</td>\n",
       "      <td>0.0</td>\n",
       "      <td>NaN</td>\n",
       "      <td>1.211054</td>\n",
       "      <td>1.197964</td>\n",
       "      <td>0.000000</td>\n",
       "      <td>0.000141</td>\n",
       "      <td>0.000016</td>\n",
       "      <td>0.000016</td>\n",
       "      <td>NaN</td>\n",
       "      <td>0.000170</td>\n",
       "      <td>0.000019</td>\n",
       "    </tr>\n",
       "    <tr>\n",
       "      <th>2016-12-30 14:59:00</th>\n",
       "      <td>1.000528</td>\n",
       "      <td>6473.794</td>\n",
       "      <td>0.0</td>\n",
       "      <td>0.0</td>\n",
       "      <td>NaN</td>\n",
       "      <td>1.226324</td>\n",
       "      <td>1.196813</td>\n",
       "      <td>0.000000</td>\n",
       "      <td>0.000005</td>\n",
       "      <td>0.000280</td>\n",
       "      <td>0.000280</td>\n",
       "      <td>NaN</td>\n",
       "      <td>0.000006</td>\n",
       "      <td>0.000335</td>\n",
       "    </tr>\n",
       "  </tbody>\n",
       "</table>\n",
       "</div>"
      ],
      "text/plain": [
       "                       change     price    volume  volume_mean  volume_ratio  \\\n",
       "2016-12-30 14:57:00  1.000528  6473.794  569100.0     464070.0      1.226324   \n",
       "2016-12-30 14:58:00  1.000528  6473.794       0.0          0.0           NaN   \n",
       "2016-12-30 14:59:00  1.000528  6473.794       0.0          0.0           NaN   \n",
       "\n",
       "                     volume_ratio3  volume_ratio5  minchange  minchange3  \\\n",
       "2016-12-30 14:57:00       1.196813       1.219388   0.000005    0.000280   \n",
       "2016-12-30 14:58:00       1.211054       1.197964   0.000000    0.000141   \n",
       "2016-12-30 14:59:00       1.226324       1.196813   0.000000    0.000005   \n",
       "\n",
       "                     minchange4  minchange5  momentum  momentum3  momentum5  \n",
       "2016-12-30 14:57:00   -0.000037   -0.000037  0.000006   0.000335  -0.000045  \n",
       "2016-12-30 14:58:00    0.000016    0.000016       NaN   0.000170   0.000019  \n",
       "2016-12-30 14:59:00    0.000280    0.000280       NaN   0.000006   0.000335  "
      ]
     },
     "execution_count": 16,
     "metadata": {},
     "output_type": "execute_result"
    }
   ],
   "source": [
    "df.tail(3)"
   ]
  },
  {
   "cell_type": "code",
   "execution_count": 17,
   "metadata": {
    "collapsed": false
   },
   "outputs": [
    {
     "ename": "SyntaxError",
     "evalue": "invalid syntax (<ipython-input-17-b4c00b6223ba>, line 12)",
     "output_type": "error",
     "traceback": [
      "\u001b[0;36m  File \u001b[0;32m\"<ipython-input-17-b4c00b6223ba>\"\u001b[0;36m, line \u001b[0;32m12\u001b[0m\n\u001b[0;31m    if index.strftime()\u001b[0m\n\u001b[0m                       ^\u001b[0m\n\u001b[0;31mSyntaxError\u001b[0m\u001b[0;31m:\u001b[0m invalid syntax\n"
     ]
    }
   ],
   "source": [
    "wave_change_se = pd.Series()\n",
    "wave_volume_ratio_se = pd.Series()\n",
    "wave_result_se = pd.Series()\n",
    "min_result3_se = pd.Series()\n",
    "min_result5_se = pd.Series()\n",
    "close_result_se = pd.Series()\n",
    "last_buy = None\n",
    "last_sell = None\n",
    "volume_sum = 0\n",
    "volume_mean_sum = 0\n",
    "for index,row in df.iterrows():\n",
    "    if index.strftime(\"%H:%m\") == \"09:30\":\n",
    "        "
   ]
  },
  {
   "cell_type": "code",
   "execution_count": null,
   "metadata": {
    "collapsed": true
   },
   "outputs": [],
   "source": []
  }
 ],
 "metadata": {
  "kernelspec": {
   "display_name": "Python 2",
   "language": "python",
   "name": "python2"
  },
  "language_info": {
   "codemirror_mode": {
    "name": "ipython",
    "version": 2
   },
   "file_extension": ".py",
   "mimetype": "text/x-python",
   "name": "python",
   "nbconvert_exporter": "python",
   "pygments_lexer": "ipython2",
   "version": "2.7.11"
  }
 },
 "nbformat": 4,
 "nbformat_minor": 0
}
